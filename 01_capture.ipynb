{
 "cells": [
  {
   "cell_type": "code",
   "execution_count": null,
   "metadata": {},
   "outputs": [],
   "source": [
    "# default_exp core"
   ]
  },
  {
   "cell_type": "markdown",
   "metadata": {},
   "source": [
    "# Capture\n",
    "\n",
    "> Wrapper class and example code for getting images from the OpenHSI using a ximea detetor (with IMX252 sensor, e.g. MX031CG-SY).Wrapper class and example code for getting images from the OpenHSI using a ximea detetor (with IMX252 sensor, e.g. [MX031CG-SY](https://www.ximea.com/en/products/xilab-application-specific-custom-oem/embedded-vision-and-multi-camera-setup-xix/sony-imx252-fast-color-industrial-camera))."
   ]
  },
  {
   "cell_type": "code",
   "execution_count": null,
   "metadata": {},
   "outputs": [],
   "source": [
    "#hide\n",
    "from nbdev.showdoc import *"
   ]
  },
  {
   "cell_type": "code",
   "execution_count": null,
   "metadata": {},
   "outputs": [],
   "source": [
    "#export\n",
    "import numpy as np\n",
    "import matplotlib.pyplot as plt\n",
    "from ximea import xiapi"
   ]
  },
  {
   "cell_type": "code",
   "execution_count": null,
   "metadata": {},
   "outputs": [],
   "source": [
    "\n",
    "class OpenHSI(object):\n",
    "    \"\"\"XIMEA camera class to take images\"\"\"\n",
    "\n",
    "    def __init__(self, serialnumber:str = None, xbinwidth:int = 896, xbinoffset:int = 528, \n",
    "                exposure_ms:int = 1000, gain:int = 0):\n",
    "        \"\"\"Init the camera\"\"\"\n",
    "        self.xicam = xiapi.Camera()\n",
    "        self.xicam.open_device_by_SN(serialnumber) if serialnumber else self.xicam.open_device()\n",
    "\n",
    "        print(f'Connected to device {self.xicam.get_device_sn()}')\n",
    "\n",
    "        self.xbinwidth  = xbinwidth\n",
    "        self.xbinoffset = xbinoffset\n",
    "        self.exposure   = exposure_ms # ms?\n",
    "        self.gain       = 0\n",
    "\n",
    "        self.xicam.set_width(self.xbinwidth)\n",
    "        self.xicam.set_offsetX(self.xbinoffset)\n",
    "        self.xicam.set_exposure_direct(1000*self.exposure)\n",
    "        self.xicam.set_gain_direct(self.gain)\n",
    "\n",
    "        # What other settings are there?, can we make these *args, **kwargs? and check \n",
    "        # them using getattr()\n",
    "        self.xicam.set_imgdataformat(\"XI_RAW16\")\n",
    "        self.xicam.set_output_bit_depth(\"XI_BPP_12\")\n",
    "        self.xicam.enable_output_bit_packing()\n",
    "        self.xicam.disable_aeag() # what is this?\n",
    "        \n",
    "        self.xicam.set_binning_vertical(2)\n",
    "        self.xicam.set_binning_vertical_mode(\"XI_BIN_MODE_SUM\")\n",
    "\n",
    "        self.rows, self.cols = self.xicam.get_height(), self.xicam.get_width()\n",
    "\n",
    "        self.img = xiapi.Image()\n",
    "        self.xicam.start_acquisition()\n",
    "\n",
    "    def __enter__(self):\n",
    "        return self\n",
    "\n",
    "    def __exit__(self, exc_type, exc_value, traceback):\n",
    "        self.xicam.stop_acquisition()\n",
    "        self.xicam.close_device()\n",
    "\n",
    "    @property\n",
    "    def exposure(self) -> float: # or int?\n",
    "        \"\"\"Current exposure in ms.\"\"\"\n",
    "        return self.xicam.get_exposure() / 1000\n",
    "\n",
    "    @exposure.setter\n",
    "    def exposure(self, val):\n",
    "        \"\"\"Update exposure in ms.\"\"\"\n",
    "        self.xicam.set_exposure_direct(val * 1000)\n",
    "\n",
    "    @property\n",
    "    def gain(self) -> float: # or int?\n",
    "        \"\"\"Current exposure property in dB from 0 to 24 dB.\"\"\"\n",
    "        return self.xicam.get_gain()\n",
    "\n",
    "    @gain.setter\n",
    "    def gain(self, val):\n",
    "        \"\"\"Update gain in dB.\"\"\"\n",
    "        self.xicam.set_gain_direct(val)\n",
    "\n",
    "    def get_img(self, n:int = 1) -> np.ndarray:\n",
    "        \"\"\"Take `n` images\"\"\"\n",
    "        data = np.zeros((self.cols,self.rows,n), dtype = np.uint16)\n",
    "        for i in range(n):\n",
    "            self.xicam.get_image(self.img)\n",
    "            data[...,i] = np.rot90(self.img.get_image_data_numpy(), -1)\n",
    "        return data\n",
    "\n",
    "    def take_show(self):\n",
    "        \"\"\"Grab a single image using `get_img` and plot it\"\"\"\n",
    "        with OpenHSI(xbinwidth=896,xbinoffset=528,exposure_ms=1000,gain=0) as cam:\n",
    "            img = cam.start().get_img()\n",
    "            plt.imshow(img)\n",
    "            plt.xlabel('Wavelength (nm)')\n",
    "            plt.ylabel('Line pixels')\n",
    "            plt.show()\n"
   ]
  },
  {
   "cell_type": "code",
   "execution_count": null,
   "metadata": {},
   "outputs": [],
   "source": []
  },
  {
   "cell_type": "code",
   "execution_count": null,
   "metadata": {},
   "outputs": [],
   "source": []
  },
  {
   "cell_type": "code",
   "execution_count": null,
   "metadata": {},
   "outputs": [],
   "source": []
  },
  {
   "cell_type": "code",
   "execution_count": null,
   "metadata": {},
   "outputs": [],
   "source": []
  },
  {
   "cell_type": "code",
   "execution_count": null,
   "metadata": {},
   "outputs": [],
   "source": []
  }
 ],
 "metadata": {
  "kernelspec": {
   "display_name": "Python 3",
   "language": "python",
   "name": "python3"
  }
 },
 "nbformat": 4,
 "nbformat_minor": 2
}
